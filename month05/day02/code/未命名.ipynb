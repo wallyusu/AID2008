{
 "cells": [
  {
   "cell_type": "code",
   "execution_count": 1,
   "metadata": {},
   "outputs": [
    {
     "data": {
      "text/plain": [
       "a    3\n",
       "b   -5\n",
       "c    7\n",
       "d    4\n",
       "dtype: int64"
      ]
     },
     "execution_count": 1,
     "metadata": {},
     "output_type": "execute_result"
    }
   ],
   "source": [
    "import pandas as pd\n",
    "import numpy as np\n",
    "# 创建一个Series\n",
    "# s1=pd.Series(data=[3,-5,7,4],index=['a','b','c','d'])\n",
    "s1=pd.Series(data=[3,-5,7,4],index=list('abcd'))\n",
    "s1"
   ]
  },
  {
   "cell_type": "code",
   "execution_count": 5,
   "metadata": {},
   "outputs": [
    {
     "data": {
      "text/plain": [
       "a    3\n",
       "b   -5\n",
       "dtype: int64"
      ]
     },
     "execution_count": 5,
     "metadata": {},
     "output_type": "execute_result"
    }
   ],
   "source": [
    "# 访问Series\n",
    "# s1[0]\n",
    "# s1['a']\n",
    "s1[['a','b']]"
   ]
  },
  {
   "cell_type": "code",
   "execution_count": 9,
   "metadata": {},
   "outputs": [
    {
     "data": {
      "text/html": [
       "<div>\n",
       "<style scoped>\n",
       "    .dataframe tbody tr th:only-of-type {\n",
       "        vertical-align: middle;\n",
       "    }\n",
       "\n",
       "    .dataframe tbody tr th {\n",
       "        vertical-align: top;\n",
       "    }\n",
       "\n",
       "    .dataframe thead th {\n",
       "        text-align: right;\n",
       "    }\n",
       "</style>\n",
       "<table border=\"1\" class=\"dataframe\">\n",
       "  <thead>\n",
       "    <tr style=\"text-align: right;\">\n",
       "      <th></th>\n",
       "      <th>a</th>\n",
       "      <th>b</th>\n",
       "      <th>c</th>\n",
       "      <th>d</th>\n",
       "    </tr>\n",
       "  </thead>\n",
       "  <tbody>\n",
       "    <tr>\n",
       "      <th>2010-01-01</th>\n",
       "      <td>0.606966</td>\n",
       "      <td>1.123914</td>\n",
       "      <td>1.243857</td>\n",
       "      <td>-0.729991</td>\n",
       "    </tr>\n",
       "    <tr>\n",
       "      <th>2010-01-02</th>\n",
       "      <td>1.059342</td>\n",
       "      <td>0.620376</td>\n",
       "      <td>1.880293</td>\n",
       "      <td>-0.308032</td>\n",
       "    </tr>\n",
       "    <tr>\n",
       "      <th>2010-01-03</th>\n",
       "      <td>-0.852555</td>\n",
       "      <td>-0.494134</td>\n",
       "      <td>-0.610742</td>\n",
       "      <td>-0.673444</td>\n",
       "    </tr>\n",
       "    <tr>\n",
       "      <th>2010-01-04</th>\n",
       "      <td>-0.924548</td>\n",
       "      <td>-0.093381</td>\n",
       "      <td>2.361965</td>\n",
       "      <td>0.610425</td>\n",
       "    </tr>\n",
       "    <tr>\n",
       "      <th>2010-01-05</th>\n",
       "      <td>0.782361</td>\n",
       "      <td>-0.531747</td>\n",
       "      <td>-1.858280</td>\n",
       "      <td>0.351308</td>\n",
       "    </tr>\n",
       "    <tr>\n",
       "      <th>2010-01-06</th>\n",
       "      <td>1.437792</td>\n",
       "      <td>0.653692</td>\n",
       "      <td>-0.180225</td>\n",
       "      <td>-1.039787</td>\n",
       "    </tr>\n",
       "  </tbody>\n",
       "</table>\n",
       "</div>"
      ],
      "text/plain": [
       "                   a         b         c         d\n",
       "2010-01-01  0.606966  1.123914  1.243857 -0.729991\n",
       "2010-01-02  1.059342  0.620376  1.880293 -0.308032\n",
       "2010-01-03 -0.852555 -0.494134 -0.610742 -0.673444\n",
       "2010-01-04 -0.924548 -0.093381  2.361965  0.610425\n",
       "2010-01-05  0.782361 -0.531747 -1.858280  0.351308\n",
       "2010-01-06  1.437792  0.653692 -0.180225 -1.039787"
      ]
     },
     "execution_count": 9,
     "metadata": {},
     "output_type": "execute_result"
    }
   ],
   "source": [
    "# 创建一个DataFrame\n",
    "date = pd.date_range('20100101',periods=6)\n",
    "# date\n",
    "df = pd.DataFrame(data=np.random.randn(6,4),index=date,columns=list('abcd'))\n",
    "df"
   ]
  },
  {
   "cell_type": "code",
   "execution_count": null,
   "metadata": {},
   "outputs": [],
   "source": []
  }
 ],
 "metadata": {
  "kernelspec": {
   "display_name": "Python 3",
   "language": "python",
   "name": "python3"
  },
  "language_info": {
   "codemirror_mode": {
    "name": "ipython",
    "version": 3
   },
   "file_extension": ".py",
   "mimetype": "text/x-python",
   "name": "python",
   "nbconvert_exporter": "python",
   "pygments_lexer": "ipython3",
   "version": "3.6.9"
  }
 },
 "nbformat": 4,
 "nbformat_minor": 4
}

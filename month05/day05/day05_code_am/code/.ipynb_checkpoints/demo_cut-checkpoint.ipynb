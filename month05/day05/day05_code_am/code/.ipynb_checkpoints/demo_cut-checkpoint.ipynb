{
 "cells": [
  {
   "cell_type": "code",
   "execution_count": 1,
   "metadata": {},
   "outputs": [
    {
     "data": {
      "text/plain": [
       "[(15, 20], (20, 25], (30, 35], (50, 60], (30, 35], (10, 15], (5, 10], (40, 45], (40, 45], (15, 20]]\n",
       "Categories (10, interval[int64]): [(5, 10] < (10, 15] < (15, 20] < (20, 25] ... (35, 40] < (40, 45] < (45, 50] < (50, 60]]"
      ]
     },
     "execution_count": 1,
     "metadata": {},
     "output_type": "execute_result"
    }
   ],
   "source": [
    "import pandas as pd\n",
    "ages=[20,22,34,56,35,12,9,43,45,18]\n",
    "bins=[5,10,15,20,25,30,35,40,45,50,60]\n",
    "cut_data=pd.cut(x=ages,bins=bins)\n",
    "cut_data"
   ]
  },
  {
   "cell_type": "code",
   "execution_count": 6,
   "metadata": {},
   "outputs": [
    {
     "data": {
      "text/plain": [
       "(5, 10]     1\n",
       "(10, 15]    1\n",
       "(15, 20]    2\n",
       "(20, 25]    1\n",
       "(25, 30]    0\n",
       "(30, 35]    2\n",
       "(35, 40]    0\n",
       "(40, 45]    2\n",
       "(45, 50]    0\n",
       "(50, 60]    1\n",
       "dtype: int64"
      ]
     },
     "execution_count": 6,
     "metadata": {},
     "output_type": "execute_result"
    }
   ],
   "source": [
    "cut_data.value_counts()"
   ]
  },
  {
   "cell_type": "code",
   "execution_count": 5,
   "metadata": {},
   "outputs": [
    {
     "data": {
      "text/plain": [
       "<matplotlib.axes._subplots.AxesSubplot at 0x20a638f44e0>"
      ]
     },
     "execution_count": 5,
     "metadata": {},
     "output_type": "execute_result"
    },
    {
     "data": {
      "image/png": "[encoded data removed]",
      "text/plain": [
       "<matplotlib.figure.Figure at 0x20a63d815c0>"
      ]
     },
     "metadata": {
      "needs_background": "light"
     },
     "output_type": "display_data"
    }
   ],
   "source": [
    "cut_data.value_counts().plot(kind='barh')"
   ]
  },
  {
   "cell_type": "code",
   "execution_count": null,
   "metadata": {},
   "outputs": [],
   "source": []
  }
 ],
 "metadata": {
  "kernelspec": {
   "display_name": "Python 3",
   "language": "python",
   "name": "python3"
  },
  "language_info": {
   "codemirror_mode": {
    "name": "ipython",
    "version": 3
   },
   "file_extension": ".py",
   "mimetype": "text/x-python",
   "name": "python",
   "nbconvert_exporter": "python",
   "pygments_lexer": "ipython3",
   "version": "3.6.8"
  }
 },
 "nbformat": 4,
 "nbformat_minor": 2
}

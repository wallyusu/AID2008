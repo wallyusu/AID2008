{
 "cells": [
  {
   "cell_type": "code",
   "execution_count": 1,
   "metadata": {
    "scrolled": true
   },
   "outputs": [
    {
     "name": "stdout",
     "output_type": "stream",
     "text": [
      "a     3\n",
      "b    -5\n",
      "c     b\n",
      "d     4\n",
      "dtype: object\n"
     ]
    },
    {
     "data": {
      "text/html": [
       "<div>\n",
       "<style scoped>\n",
       "    .dataframe tbody tr th:only-of-type {\n",
       "        vertical-align: middle;\n",
       "    }\n",
       "\n",
       "    .dataframe tbody tr th {\n",
       "        vertical-align: top;\n",
       "    }\n",
       "\n",
       "    .dataframe thead th {\n",
       "        text-align: right;\n",
       "    }\n",
       "</style>\n",
       "<table border=\"1\" class=\"dataframe\">\n",
       "  <thead>\n",
       "    <tr style=\"text-align: right;\">\n",
       "      <th></th>\n",
       "      <th>a</th>\n",
       "      <th>b</th>\n",
       "      <th>c</th>\n",
       "      <th>d</th>\n",
       "    </tr>\n",
       "  </thead>\n",
       "  <tbody>\n",
       "    <tr>\n",
       "      <th>2010-01-01</th>\n",
       "      <td>0.362664</td>\n",
       "      <td>1.335612</td>\n",
       "      <td>0.978128</td>\n",
       "      <td>-0.792396</td>\n",
       "    </tr>\n",
       "    <tr>\n",
       "      <th>2010-01-02</th>\n",
       "      <td>1.452076</td>\n",
       "      <td>-1.335964</td>\n",
       "      <td>0.024806</td>\n",
       "      <td>-1.776338</td>\n",
       "    </tr>\n",
       "    <tr>\n",
       "      <th>2010-01-03</th>\n",
       "      <td>-0.163586</td>\n",
       "      <td>0.125601</td>\n",
       "      <td>0.735637</td>\n",
       "      <td>-1.431736</td>\n",
       "    </tr>\n",
       "    <tr>\n",
       "      <th>2010-01-04</th>\n",
       "      <td>-0.783357</td>\n",
       "      <td>-0.806003</td>\n",
       "      <td>0.973843</td>\n",
       "      <td>-0.843180</td>\n",
       "    </tr>\n",
       "    <tr>\n",
       "      <th>2010-01-05</th>\n",
       "      <td>0.581882</td>\n",
       "      <td>0.215377</td>\n",
       "      <td>0.716220</td>\n",
       "      <td>-0.120059</td>\n",
       "    </tr>\n",
       "    <tr>\n",
       "      <th>2010-01-06</th>\n",
       "      <td>-0.303284</td>\n",
       "      <td>1.818543</td>\n",
       "      <td>0.522615</td>\n",
       "      <td>-0.574072</td>\n",
       "    </tr>\n",
       "  </tbody>\n",
       "</table>\n",
       "</div>"
      ],
      "text/plain": [
       "                   a         b         c         d\n",
       "2010-01-01  0.362664  1.335612  0.978128 -0.792396\n",
       "2010-01-02  1.452076 -1.335964  0.024806 -1.776338\n",
       "2010-01-03 -0.163586  0.125601  0.735637 -1.431736\n",
       "2010-01-04 -0.783357 -0.806003  0.973843 -0.843180\n",
       "2010-01-05  0.581882  0.215377  0.716220 -0.120059\n",
       "2010-01-06 -0.303284  1.818543  0.522615 -0.574072"
      ]
     },
     "execution_count": 1,
     "metadata": {},
     "output_type": "execute_result"
    }
   ],
   "source": [
    "import pandas as pd\n",
    "import numpy as np\n",
    "# 1.Series创建\n",
    "s1=pd.Series(data=[3,-5,'b',4],index=['a','b','c','d'])\n",
    "print(s1)\n",
    "# 2.创建一组DataFrame数据-date_range创建时间\n",
    "date=pd.date_range('20100101',periods=6)\n",
    "# print(date)\n",
    "df=pd.DataFrame(np.random.randn(6,4),index=date,columns=list('abcd'))\n",
    "df"
   ]
  },
  {
   "cell_type": "code",
   "execution_count": 13,
   "metadata": {},
   "outputs": [
    {
     "name": "stdout",
     "output_type": "stream",
     "text": [
      "Index(['a', 'b', 'c', 'd'], dtype='object')\n"
     ]
    }
   ],
   "source": [
    "# 查看基本数据\n",
    "# print(df.values)\n",
    "# print(df.index)\n",
    "# print(df.ndim)\n",
    "# print(df.shape)\n",
    "# print(df.dtypes)\n",
    "# print(df.size)\n",
    "# print(df.columns)"
   ]
  },
  {
   "cell_type": "code",
   "execution_count": 11,
   "metadata": {},
   "outputs": [
    {
     "name": "stdout",
     "output_type": "stream",
     "text": [
      "<class 'pandas.core.frame.DataFrame'>\n",
      "DatetimeIndex: 6 entries, 2010-01-01 to 2010-01-06\n",
      "Freq: D\n",
      "Data columns (total 4 columns):\n",
      " #   Column  Non-Null Count  Dtype  \n",
      "---  ------  --------------  -----  \n",
      " 0   a       6 non-null      float64\n",
      " 1   b       6 non-null      float64\n",
      " 2   c       6 non-null      float64\n",
      " 3   d       6 non-null      float64\n",
      "dtypes: float64(4)\n",
      "memory usage: 240.0 bytes\n"
     ]
    }
   ],
   "source": [
    "# 数据完整性数据\n",
    "df.info()"
   ]
  },
  {
   "cell_type": "code",
   "execution_count": 2,
   "metadata": {},
   "outputs": [
    {
     "data": {
      "text/plain": [
       "2010-01-01    0.362664\n",
       "2010-01-02    1.452076\n",
       "2010-01-03   -0.163586\n",
       "2010-01-04   -0.783357\n",
       "2010-01-05    0.581882\n",
       "2010-01-06   -0.303284\n",
       "Freq: D, Name: a, dtype: float64"
      ]
     },
     "execution_count": 2,
     "metadata": {},
     "output_type": "execute_result"
    }
   ],
   "source": [
    "# 读取a列数据\n",
    "df.a"
   ]
  },
  {
   "cell_type": "code",
   "execution_count": 3,
   "metadata": {},
   "outputs": [
    {
     "data": {
      "text/plain": [
       "2010-01-01    0.362664\n",
       "2010-01-02    1.452076\n",
       "2010-01-03   -0.163586\n",
       "2010-01-04   -0.783357\n",
       "2010-01-05    0.581882\n",
       "2010-01-06   -0.303284\n",
       "Freq: D, Name: a, dtype: float64"
      ]
     },
     "execution_count": 3,
     "metadata": {},
     "output_type": "execute_result"
    }
   ],
   "source": [
    "# 方法2\n",
    "df['a']"
   ]
  },
  {
   "cell_type": "code",
   "execution_count": null,
   "metadata": {},
   "outputs": [],
   "source": [
    "# 读取a,b两列数据\n",
    "df_ab = df[['a','b']]\n",
    "print\n"
   ]
  }
 ],
 "metadata": {
  "kernelspec": {
   "display_name": "Python 3",
   "language": "python",
   "name": "python3"
  },
  "language_info": {
   "codemirror_mode": {
    "name": "ipython",
    "version": 3
   },
   "file_extension": ".py",
   "mimetype": "text/x-python",
   "name": "python",
   "nbconvert_exporter": "python",
   "pygments_lexer": "ipython3",
   "version": "3.6.9"
  }
 },
 "nbformat": 4,
 "nbformat_minor": 4
}
